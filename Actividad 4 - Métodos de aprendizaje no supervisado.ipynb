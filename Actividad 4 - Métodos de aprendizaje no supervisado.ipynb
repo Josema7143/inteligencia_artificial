{
 "cells": [
  {
   "cell_type": "code",
   "execution_count": 2,
   "metadata": {},
   "outputs": [
    {
     "name": "stdout",
     "output_type": "stream",
     "text": [
      "Tamaño Total: 2000 - Encabezados actuales: Index(['ï»¿Rank', 'Company Name', 'Country', 'Sales\\n($millions)',\n",
      "       'Profits\\n($millions)', 'Assets\\n($millions)',\n",
      "       'Market Value \\nAs of 05/12/22 ($m)', 'Unnamed: 7'],\n",
      "      dtype='object')\n",
      "   Rango                           Nombre_Compañia           Pais   Ventas  \\\n",
      "0      1                        berkshire hathaway  united states  276,090   \n",
      "1      2                                      icbc          china  208,130   \n",
      "2      3  saudi arabian oil company (saudi aramco)   saudi arabia  400,380   \n",
      "3      4                            jpmorgan chase  united states  124,540   \n",
      "4      5                   china construction bank          china  202,070   \n",
      "5      6                                    amazon  united states  469,820   \n",
      "6      7                                     apple  united states  378,700   \n",
      "7      8                agricultural bank of china          china  181,420   \n",
      "8      9                           bank of america  united states   96,830   \n",
      "9     10                              toyota motor          japan  281,750   \n",
      "\n",
      "  Beneficios    Activos Valor_Mercado  \n",
      "0     89,800    958,780       741,480  \n",
      "1     54,030  5,518,510       214,430  \n",
      "2    105,360    576,040     2,292,080  \n",
      "3     42,120  3,954,690       374,450  \n",
      "4     46,890  4,746,950       181,320  \n",
      "5     33,360    420,550     1,468,400  \n",
      "6    100,560    381,190     2,640,320  \n",
      "7     37,380  4,561,050       133,380  \n",
      "8     31,000  3,238,220       303,100  \n",
      "9     28,150    552,460       237,730  \n",
      "Total de registros: 2000\n",
      "Total de columnas: 7\n"
     ]
    }
   ],
   "source": [
    "#Desarrollado por:\n",
    "    #Astrid Julieth Tovar\n",
    "    #José Manuel Martínez\n",
    "#Objetivo: Preparar información para análisis de datos\n",
    "#Inteligencia Artificial\n",
    "#Actividad 4 - Métodos de aprendizaje no supervisado\n",
    "#Fecha: 15/10/2023\n",
    "\n",
    "import os\n",
    "import numpy as np\n",
    "import pandas as pd\n",
    "import matplotlib.pyplot as plt\n",
    "import seaborn as sns; sns.set()\n",
    "\n",
    "# Ruta del CSV a trabajar\n",
    "forbes = r\"C:\\Users\\Rentadvisor\\Documents\\Python\\Script\\Inteligencia_Artificial\\Archivos\\Forbes 2000 2022.csv\"\n",
    "\n",
    "# Cargando el CSV en el DataFrame\n",
    "df = pd.read_csv(forbes, encoding='latin-1', sep=';', header=0)\n",
    "\n",
    "# Mostrar información inicial\n",
    "print(f\"Tamaño Total: {len(df)} - Encabezados actuales: {df.columns}\")\n",
    "\n",
    "# Limpieza de datos\n",
    "df.columns = ['Rango', 'Nombre_Compañia', 'Pais', 'Ventas', 'Beneficios', 'Activos', 'Valor_Mercado','Sin_Dato']\n",
    "#df.dropna(subset=['Rango', 'Nombre_Compañia', 'Pais', 'Ventas', 'Beneficios', 'Activos', 'Valor_Mercado','Sin_Dato'], inplace=True)\n",
    "df.drop_duplicates(inplace=True)\n",
    "\n",
    "# Convertir texto a minúsculas en columnas de texto\n",
    "df['Nombre_Compañia'] = df['Nombre_Compañia'].str.lower()\n",
    "df['Pais'] = df['Pais'].str.lower()\n",
    "df.drop(columns=['Sin_Dato'], inplace=True)\n",
    "\n",
    "#Reemplazndo en columnas específicas\n",
    "def format_value(value):\n",
    "    return value.replace('$', '').strip()\n",
    "df[['Ventas', 'Beneficios', 'Activos','Valor_Mercado']] = df[['Ventas', 'Beneficios', 'Activos','Valor_Mercado']].applymap(format_value)\n",
    "\n",
    "# Mostrar los primeros 10 registros después de la limpieza\n",
    "print(df.head(10))\n",
    "\n",
    "# Conteo total de datos analizados y corregidos\n",
    "total_registros = len(df)\n",
    "total_columnas = len(df.columns)\n",
    "print(f\"Total de registros: {total_registros}\")\n",
    "print(f\"Total de columnas: {total_columnas}\")\n",
    "\n",
    "#Guardar los cambios en el mismo archivo CSV\n",
    "#df.to_csv(forbes, index=False, sep=';', encoding='latin-1')\n"
   ]
  }
 ],
 "metadata": {
  "kernelspec": {
   "display_name": "Python 3 (ipykernel)",
   "language": "python",
   "name": "python3"
  },
  "language_info": {
   "codemirror_mode": {
    "name": "ipython",
    "version": 3
   },
   "file_extension": ".py",
   "mimetype": "text/x-python",
   "name": "python",
   "nbconvert_exporter": "python",
   "pygments_lexer": "ipython3",
   "version": "3.11.5"
  }
 },
 "nbformat": 4,
 "nbformat_minor": 2
}
